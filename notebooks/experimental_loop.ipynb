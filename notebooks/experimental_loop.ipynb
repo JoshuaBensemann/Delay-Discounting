{
 "cells": [
  {
   "cell_type": "code",
   "execution_count": 95,
   "metadata": {},
   "outputs": [],
   "source": [
    "import sys\n",
    "\n",
    "sys.path.append('..')\n",
    "\n",
    "from src.tasks import DelayDiscountTask\n",
    "from openai import OpenAI"
   ]
  },
  {
   "cell_type": "code",
   "execution_count": 96,
   "metadata": {},
   "outputs": [],
   "source": [
    "task = DelayDiscountTask(100, ['1 week', '2 weeks', '1 month', '2 months', '6 months', '1 year', '5 years', '25 years'], 6)"
   ]
  },
  {
   "cell_type": "code",
   "execution_count": 97,
   "metadata": {},
   "outputs": [],
   "source": [
    "client = OpenAI(\n",
    "    base_url = 'http://localhost:11434/v1',\n",
    "    api_key='ollama'\n",
    ")"
   ]
  },
  {
   "cell_type": "code",
   "execution_count": 98,
   "metadata": {},
   "outputs": [],
   "source": [
    "system_message = f\"\"\"\n",
    "You are a participant in a experiment.\n",
    "You will be given a persona deleminated by the tags <persona> and </persona>.\n",
    "Act as though you are the person described by the persona.\n",
    "\n",
    "You will be given a task to complete.\n",
    "You complete this task by choosing one of the options provided.\n",
    "Only response with \"1\" or \"2\".\n",
    "No not attempt to provide any other response.\n",
    "\n",
    "<persona>\n",
    "You are Mr. Wagner.\n",
    "</persona>\n",
    "\n",
    "Task:\n",
    "\"\"\""
   ]
  },
  {
   "cell_type": "code",
   "execution_count": 99,
   "metadata": {},
   "outputs": [],
   "source": [
    "class Experiment:\n",
    "    def __init__(self, task, client, model=\"llama2\", max_retries=3):\n",
    "        self.task = task\n",
    "        self.client = client\n",
    "        self.messages = [{\"role\": \"system\", \"content\":self._get_system_message()}]\n",
    "        self.model = model\n",
    "        self.max_retries = max_retries\n",
    "\n",
    "\n",
    "    def _get_system_message(self):\n",
    "        system_message = f\"You are a participant in a experiment.\\nYou will be given a persona deleminated by the tags <persona> and </persona>.\\nAct as though you are the person described by the persona.\\n\\n\" + \\\n",
    "        f\"You will be given a task to complete.\\nYou complete this task by choosing one of the options provided.\\nOnly respond with '1' or '2'.\\nNo not attempt to provide any other response.\\n\\n\" + \\\n",
    "        f\"<persona>\\nYou are Mr. Crane.\\n</persona>\\n\\nTask:\"\n",
    "\n",
    "        return system_message\n",
    "\n",
    "\n",
    "    def _get_choice_message(self):\n",
    "        choice_1, choice_2 = self.task.get_trial()\n",
    "        \n",
    "        return f\"{choice_1}\\nor\\n{choice_2}\"\n",
    "    \n",
    "\n",
    "    def _get_response(self):\n",
    "        response = client.chat.completions.create(\n",
    "        model=self.model,\n",
    "        messages=self.messages\n",
    "        )\n",
    "        \n",
    "        int_response = -1\n",
    "        try:\n",
    "            int_response = int(response.choices[0].message.content)\n",
    "        except:\n",
    "            pass\n",
    "\n",
    "        return int_response\n",
    "    \n",
    "    def _retry_response(self):\n",
    "        self.messages.append({\"role\": \"user\", \"content\": \"Respond with 1 or 2 only.\"})\n",
    "        response = self._get_response()\n",
    "        self.messages.append({\"role\": \"assistant\", \"content\": str(response)})\n",
    "        return response\n",
    "    \n",
    "    \n",
    "    def get_messages(self):\n",
    "        return self.messages\n",
    "    \n",
    "\n",
    "    def run(self):\n",
    "        while self.task.get_is_running():\n",
    "            self.messages.append({\"role\": \"user\", \"content\": self._get_choice_message()})\n",
    "            response = self._get_response()\n",
    "            self.messages.append({\"role\": \"assistant\", \"content\": str(response)})\n",
    "\n",
    "            retries = 0\n",
    "            while response == -1:\n",
    "                self._retry_response()\n",
    "                retries += 1\n",
    "                if retries == self.max_retries:\n",
    "                    print(\"Too many retries. Exiting.\")\n",
    "                    return self.task.get_log()\n",
    "\n",
    "            valid_response = False\n",
    "            retries = 0\n",
    "            while not valid_response:\n",
    "                valid_response = task.record_response(response)\n",
    "                if not valid_response:\n",
    "                    self._retry_response()\n",
    "                    retries += 1\n",
    "                    if retries == self.max_retries:\n",
    "                        print(\"Too many retries. Exiting.\")\n",
    "                        return self.task.get_log()\n",
    "                    \n",
    "        \n",
    "        return self.task.get_log()"
   ]
  },
  {
   "cell_type": "code",
   "execution_count": 100,
   "metadata": {},
   "outputs": [],
   "source": [
    "test_exp = Experiment(task, client)"
   ]
  },
  {
   "cell_type": "code",
   "execution_count": 101,
   "metadata": {},
   "outputs": [
    {
     "name": "stdout",
     "output_type": "stream",
     "text": [
      "Too many retries. Exiting.\n"
     ]
    }
   ],
   "source": [
    "log = test_exp.run()"
   ]
  },
  {
   "cell_type": "code",
   "execution_count": 102,
   "metadata": {},
   "outputs": [
    {
     "data": {
      "text/plain": [
       "[{'trial': 1,\n",
       "  'delay': '1 week',\n",
       "  'current_value': 50.0,\n",
       "  'max_value': 100,\n",
       "  'max_side': 1,\n",
       "  'response': 1,\n",
       "  'chose_max': True}]"
      ]
     },
     "execution_count": 102,
     "metadata": {},
     "output_type": "execute_result"
    }
   ],
   "source": [
    "log"
   ]
  },
  {
   "cell_type": "code",
   "execution_count": 103,
   "metadata": {},
   "outputs": [
    {
     "data": {
      "text/plain": [
       "[{'role': 'system',\n",
       "  'content': \"You are a participant in a experiment.\\nYou will be given a persona deleminated by the tags <persona> and </persona>.\\nAct as though you are the person described by the persona.\\n\\nYou will be given a task to complete.\\nYou complete this task by choosing one of the options provided.\\nOnly respond with '1' or '2'.\\nNo not attempt to provide any other response.\\n\\n<persona>\\nYou are Mr. Crane.\\n</persona>\\n\\nTask:\"},\n",
       " {'role': 'user', 'content': '1: $100.00 in 1 week\\nor\\n2: $50.00 now'},\n",
       " {'role': 'assistant', 'content': '1'},\n",
       " {'role': 'user', 'content': '1: $75.00 now\\nor\\n2: $100.00 in 1 week'},\n",
       " {'role': 'assistant', 'content': '-1'},\n",
       " {'role': 'user', 'content': 'Respond with 1 or 2 only.'},\n",
       " {'role': 'assistant', 'content': '2'},\n",
       " {'role': 'user', 'content': 'Respond with 1 or 2 only.'},\n",
       " {'role': 'assistant', 'content': '1'},\n",
       " {'role': 'user', 'content': 'Respond with 1 or 2 only.'},\n",
       " {'role': 'assistant', 'content': '2'}]"
      ]
     },
     "execution_count": 103,
     "metadata": {},
     "output_type": "execute_result"
    }
   ],
   "source": [
    "test_exp.get_messages()"
   ]
  },
  {
   "cell_type": "code",
   "execution_count": null,
   "metadata": {},
   "outputs": [],
   "source": []
  }
 ],
 "metadata": {
  "kernelspec": {
   "display_name": "Python 3",
   "language": "python",
   "name": "python3"
  },
  "language_info": {
   "codemirror_mode": {
    "name": "ipython",
    "version": 3
   },
   "file_extension": ".py",
   "mimetype": "text/x-python",
   "name": "python",
   "nbconvert_exporter": "python",
   "pygments_lexer": "ipython3",
   "version": "3.11.9"
  }
 },
 "nbformat": 4,
 "nbformat_minor": 2
}
